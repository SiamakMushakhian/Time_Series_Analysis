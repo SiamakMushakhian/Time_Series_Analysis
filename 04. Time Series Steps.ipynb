{
 "cells": [
  {
   "cell_type": "markdown",
   "id": "d5963a91",
   "metadata": {},
   "source": [
    "# Load Libraries"
   ]
  },
  {
   "cell_type": "markdown",
   "id": "f9324911",
   "metadata": {},
   "source": [
    "# Load Data"
   ]
  },
  {
   "cell_type": "markdown",
   "id": "66684cd3",
   "metadata": {},
   "source": [
    "# Resampling"
   ]
  },
  {
   "cell_type": "markdown",
   "id": "df7850eb",
   "metadata": {},
   "source": [
    "# Visualization"
   ]
  },
  {
   "cell_type": "markdown",
   "id": "de043c63",
   "metadata": {},
   "source": [
    "# White Noise"
   ]
  },
  {
   "cell_type": "markdown",
   "id": "c4abb512",
   "metadata": {},
   "source": [
    "## ACF"
   ]
  },
  {
   "cell_type": "markdown",
   "id": "7d8c343a",
   "metadata": {},
   "source": [
    "# Stationarity"
   ]
  },
  {
   "cell_type": "markdown",
   "id": "460d641e",
   "metadata": {},
   "source": [
    "Use return instead of price:\n",
    "\n",
    "Remember that if we want to use an autoregressive moving average model, we need to make sure that time series that we are trying to forecast is stationary."
   ]
  },
  {
   "cell_type": "markdown",
   "id": "03a5af4b",
   "metadata": {},
   "source": [
    "## Decomposing"
   ]
  },
  {
   "cell_type": "markdown",
   "id": "bf816dc0",
   "metadata": {},
   "source": [
    "## Augmented Dickey-Fuller (ADF) Test"
   ]
  },
  {
   "cell_type": "markdown",
   "id": "242380aa",
   "metadata": {},
   "source": [
    "## Detrending"
   ]
  },
  {
   "cell_type": "markdown",
   "id": "8932e0ed",
   "metadata": {},
   "source": [
    "### Differencing"
   ]
  },
  {
   "cell_type": "markdown",
   "id": "bfef9abd",
   "metadata": {},
   "source": [
    "### Decomposing"
   ]
  },
  {
   "cell_type": "markdown",
   "id": "b2aaa14e",
   "metadata": {},
   "source": [
    "## Deseasonalizing"
   ]
  },
  {
   "cell_type": "markdown",
   "id": "b2100ecc",
   "metadata": {},
   "source": [
    "https://www.youtube.com/watch?v=4hrMdu9CSQs&list=PLvcbYUQ5t0UHOLnBzl46_Q6QKtFgfMGc3&index=21"
   ]
  },
  {
   "cell_type": "markdown",
   "id": "a33b950c",
   "metadata": {},
   "source": [
    "### Differencing"
   ]
  },
  {
   "cell_type": "markdown",
   "id": "468715cf",
   "metadata": {},
   "source": [
    "### Decomposing"
   ]
  },
  {
   "cell_type": "markdown",
   "id": "df11e6da",
   "metadata": {},
   "source": [
    "# Forecast Model"
   ]
  },
  {
   "cell_type": "markdown",
   "id": "01a50c95",
   "metadata": {},
   "source": [
    "## Persistence (Naive) Model"
   ]
  },
  {
   "cell_type": "markdown",
   "id": "5fa4caa3",
   "metadata": {},
   "source": [
    "## Auto Regression Model (AR)"
   ]
  },
  {
   "cell_type": "markdown",
   "id": "e08aa4ee",
   "metadata": {},
   "source": [
    "### PACF"
   ]
  },
  {
   "cell_type": "markdown",
   "id": "a06bea51",
   "metadata": {},
   "source": [
    "## Moving Average (MA)"
   ]
  },
  {
   "cell_type": "markdown",
   "id": "10a70c6d",
   "metadata": {},
   "source": [
    "### ACF "
   ]
  },
  {
   "cell_type": "markdown",
   "id": "0e75311d",
   "metadata": {},
   "source": [
    "## ARMA"
   ]
  },
  {
   "cell_type": "markdown",
   "id": "9a3ad340",
   "metadata": {},
   "source": [
    "### PACF "
   ]
  },
  {
   "cell_type": "markdown",
   "id": "a200a63b",
   "metadata": {},
   "source": [
    "### ACF"
   ]
  },
  {
   "cell_type": "markdown",
   "id": "bef57221",
   "metadata": {},
   "source": [
    "https://www.youtube.com/watch?v=HhvTlaN06AM&list=PLvcbYUQ5t0UHOLnBzl46_Q6QKtFgfMGc3&index=17\n",
    "\n",
    "https://www.youtube.com/watch?v=xg2-9DhE5vc&list=PLvcbYUQ5t0UHOLnBzl46_Q6QKtFgfMGc3&index=18"
   ]
  },
  {
   "cell_type": "markdown",
   "id": "4d0ce328",
   "metadata": {},
   "source": [
    "## ARIMA"
   ]
  },
  {
   "cell_type": "markdown",
   "id": "963163ab",
   "metadata": {},
   "source": [
    "https://www.youtube.com/watch?v=3UmyHed0iYE&list=PLvcbYUQ5t0UHOLnBzl46_Q6QKtFgfMGc3&index=20"
   ]
  },
  {
   "cell_type": "markdown",
   "id": "b507bd05",
   "metadata": {},
   "source": [
    "### PACF "
   ]
  },
  {
   "cell_type": "markdown",
   "id": "3b5ee64a",
   "metadata": {},
   "source": [
    "### Differencing"
   ]
  },
  {
   "cell_type": "markdown",
   "id": "54ad871e",
   "metadata": {},
   "source": [
    "### ACF"
   ]
  },
  {
   "cell_type": "markdown",
   "id": "a50c7b56",
   "metadata": {},
   "source": [
    "## SARIMA"
   ]
  },
  {
   "cell_type": "markdown",
   "id": "829d9142",
   "metadata": {},
   "source": [
    "https://www.youtube.com/watch?v=WjeGUs6mzXg&list=PLvcbYUQ5t0UHOLnBzl46_Q6QKtFgfMGc3&index=22\n",
    "\n",
    "https://www.youtube.com/watch?v=Al8m6K_stfA&list=PLvcbYUQ5t0UHOLnBzl46_Q6QKtFgfMGc3&index=23"
   ]
  },
  {
   "cell_type": "code",
   "execution_count": null,
   "id": "246638fa",
   "metadata": {},
   "outputs": [],
   "source": []
  }
 ],
 "metadata": {
  "kernelspec": {
   "display_name": "Python 3 (ipykernel)",
   "language": "python",
   "name": "python3"
  },
  "language_info": {
   "codemirror_mode": {
    "name": "ipython",
    "version": 3
   },
   "file_extension": ".py",
   "mimetype": "text/x-python",
   "name": "python",
   "nbconvert_exporter": "python",
   "pygments_lexer": "ipython3",
   "version": "3.10.4"
  },
  "toc": {
   "base_numbering": 1,
   "nav_menu": {},
   "number_sections": true,
   "sideBar": true,
   "skip_h1_title": false,
   "title_cell": "Table of Contents",
   "title_sidebar": "Contents",
   "toc_cell": false,
   "toc_position": {
    "height": "calc(100% - 180px)",
    "left": "10px",
    "top": "150px",
    "width": "273.188px"
   },
   "toc_section_display": true,
   "toc_window_display": true
  }
 },
 "nbformat": 4,
 "nbformat_minor": 5
}
